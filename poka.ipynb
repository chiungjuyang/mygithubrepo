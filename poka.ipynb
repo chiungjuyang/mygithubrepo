{
 "cells": [
  {
   "cell_type": "markdown",
   "metadata": {},
   "source": [
    "## 2-5-2_104 寶可夢屬性分類\n",
    "（一）、設計說明：\n",
    "1. 請撰寫程式讀取寶可夢資料集pokemon.csv，並進行分類及預測。資料集的欄位說明如下：\n",
    "\n",
    "欄位名稱\t|說明|欄位名稱\t|說明\n",
    " :------| :------| :------| :------\n",
    "Number*\t|編號|Attack\t|攻擊力\n",
    "Name*\t|名稱|Defense\t|防禦力\n",
    "Type1*\t|第一屬性|SpecialAtk\t|特殊攻擊\n",
    "Type2*\t|第二屬性|SpecialDef\t|特殊防禦\n",
    "Total\t|能力值加總|Speed\t|速度\n",
    "HP\t|血量|Generation*\t|世代編號\n",
    "\n",
    "＊備註：欄位有標示星號(*)者為類別變數，其餘為數值變數。\n",
    "\n",
    "2. 寶可夢的Attack, Defense欄位可能有遺漏值（missing value），請直接刪除這兩個欄位有遺漏之寶可夢。\n",
    "3. 針對Attack, Defense兩個數值欄位進行標準化（standardization）。\n",
    "\n",
    "＊備註：其標準化定義為「將資料X轉換為Z = (X-μ) /σ」，其中μ為資料平均數，σ為資料之變異數。此轉換可使用StandardScaler完成。\n",
    "4. 利用線性支援向量分類器（Support Vector Classifier, SVC）針對Type1為Normal, Fighting, Ghost三種寶可夢的Attack, Defense兩個欄位進行分類。＊備註：參數設定見待編修檔。\n",
    "5. 計算錯誤分類的個數、分類的準確度（Accuracy）以及有加權的F1-score。\n",
    "6. 輸入一個未知寶可夢的Attack, Defense兩個欄位值，進行分類預測。\n",
    "\n",
    "（二）、請依序回答下列問題：\n",
    "1. 請填入錯誤分類的個數？\n",
    "2. 請填入分類結果的準確度Accuracy（四捨五入取至小數點後第四位）？\n",
    "3. 請填入分類結果的平均F1-score (weighted)（四捨五入取至小數點後第四位）？\n",
    "4. 一個未知寶可夢的Attack=100, Defense=75，請預測後填入其Type1的分類選項？\n",
    "(A) Normal\n",
    "(B) Fighting\n",
    "(C) Ghost\n",
    "(D) Steel\n"
   ]
  },
  {
   "cell_type": "code",
   "execution_count": null,
   "metadata": {},
   "outputs": [],
   "source": [
    "import pandas as pd\n",
    "\n",
    "# 載入寶可夢資料集\n",
    "# TODO\n",
    "\n",
    "# 處理遺漏值\n",
    "features = ['Attack', 'Defense']\n",
    "# TODO\n",
    "\n",
    "# 取出目標寶可夢的 Type1 與兩個特徵欄位\n",
    "# TODO\n",
    "\n",
    "# 將Type1欄位值內容轉換成為數值\n",
    "from sklearn.preprocessing import LabelEncoder\n",
    "# TODO\n",
    "\n",
    "# 特徵標準化\n",
    "from sklearn.preprocessing import StandardScaler\n",
    "# TODO\n",
    "\n",
    "\n",
    "# 建立線性支援向量分類器，除以下參數設定外，其餘為預設值\n",
    "# #############################################################################\n",
    "# C=0.1, dual=False, class_weight='balanced'\n",
    "# #############################################################################\n",
    "from sklearn.svm import LinearSVC\n",
    "# TODO\n",
    "\n",
    "# 計算分類錯誤的數量\n",
    "# TODO\n",
    "\n",
    "# 計算準確度(accuracy)\n",
    "from sklearn.metrics import accuracy_score\n",
    "print('Accuracy: '           )\n",
    "\n",
    "# 計算有加權的 F1-score (weighted)\n",
    "from sklearn.metrics import f1_score\n",
    "# TODO\n",
    "print('F1-score: '          )\n",
    "\n",
    "# 預測未知寶可夢的 Type1\n",
    "# TODO"
   ]
  },
  {
   "cell_type": "markdown",
   "metadata": {},
   "source": [
    "## 參考解答"
   ]
  },
  {
   "cell_type": "code",
   "execution_count": 1,
   "metadata": {},
   "outputs": [],
   "source": [
    "# 導入需要的套件\n",
    "import pandas as pd\n",
    "from sklearn.preprocessing import LabelEncoder\n",
    "from sklearn.preprocessing import StandardScaler\n",
    "from sklearn.svm import LinearSVC\n",
    "from sklearn.metrics import accuracy_score\n",
    "from sklearn.metrics import f1_score"
   ]
  },
  {
   "cell_type": "code",
   "execution_count": 3,
   "metadata": {},
   "outputs": [],
   "source": [
    "# 載入寶可夢資料集，處理遺漏值\n",
    "df = pd.read_csv('pokemon.csv')\n",
    "\n",
    "features = ['Attack', 'Defense']\n",
    "df.dropna(axis=0, subset=features, inplace=True)"
   ]
  },
  {
   "cell_type": "code",
   "execution_count": 4,
   "metadata": {},
   "outputs": [],
   "source": [
    "# 取出目標寶可夢的 Type1 與兩個特徵欄位\n",
    "df_data = df[(df['Type1']=='Ghost') | (df['Type1']=='Normal') \\\n",
    "             | (df['Type1']=='Fighting')]\n",
    "X_train, y_train = df_data[features], df_data['Type1']\n",
    "\n",
    "# 編碼 Type1\n",
    "le = LabelEncoder()\n",
    "y_train = le.fit_transform(y_train)\n",
    "\n",
    "# 特徵標準化\n",
    "scalar = StandardScaler()\n",
    "scalar.fit(X_train)\n",
    "X_train_std = scalar.transform(X_train)"
   ]
  },
  {
   "cell_type": "code",
   "execution_count": 5,
   "metadata": {},
   "outputs": [
    {
     "data": {
      "text/plain": [
       "LinearSVC(C=0.1, class_weight='balanced', dual=False)"
      ]
     },
     "execution_count": 5,
     "metadata": {},
     "output_type": "execute_result"
    }
   ],
   "source": [
    "# 建立線性支援向量分類器，並加以訓練。除以下參數設定外，其餘為預設值\n",
    "# C=0.1, dual=False, class_weight='balanced'\n",
    "\n",
    "model = LinearSVC(C=0.1, dual=False, class_weight='balanced')\n",
    "model.fit(X_train_std, y_train)"
   ]
  },
  {
   "cell_type": "code",
   "execution_count": 6,
   "metadata": {},
   "outputs": [
    {
     "name": "stdout",
     "output_type": "stream",
     "text": [
      "Misclassified samples: 35\n",
      "Accuracy: 0.7586\n"
     ]
    }
   ],
   "source": [
    "# 計算分類錯誤的數量\n",
    "y_pred = model.predict(X_train_std)\n",
    "print('Misclassified samples: %d' % (y_train != y_pred).sum())\n",
    "\n",
    "# 計算準確度(accuracy)\n",
    "print('Accuracy: %.4f' % accuracy_score(y_train, y_pred))"
   ]
  },
  {
   "cell_type": "code",
   "execution_count": 7,
   "metadata": {},
   "outputs": [
    {
     "name": "stdout",
     "output_type": "stream",
     "text": [
      "F1-score: 0.7578\n"
     ]
    }
   ],
   "source": [
    "# 計算有加權的 F1-score (weighted)\n",
    "f1 = f1_score(y_train, y_pred, average='weighted')\n",
    "print('F1-score: %.4f' % f1)"
   ]
  },
  {
   "cell_type": "code",
   "execution_count": 8,
   "metadata": {},
   "outputs": [
    {
     "name": "stdout",
     "output_type": "stream",
     "text": [
      "['Fighting']\n"
     ]
    }
   ],
   "source": [
    "# 預測未知寶可夢的 Type1\n",
    "new_data = [[100, 75]]\n",
    "new_data = scalar.transform(new_data)\n",
    "label = le.inverse_transform(model.predict(new_data))\n",
    "print(label)"
   ]
  },
  {
   "cell_type": "code",
   "execution_count": 9,
   "metadata": {},
   "outputs": [
    {
     "name": "stdout",
     "output_type": "stream",
     "text": [
      "Misclassified samples: 36\n",
      "Accuracy: 0.7517\n",
      "F1-score: 0.7475\n"
     ]
    }
   ],
   "source": [
    "features = ['Attack', 'Defense','Speed']\n",
    "df.dropna(axis=0, subset=features, inplace=True)\n",
    "# 取出目標寶可夢的 Type1 與兩個特徵欄位\n",
    "df_data = df[(df['Type1']=='Ghost') | (df['Type1']=='Normal') \\\n",
    "             | (df['Type1']=='Fighting')]\n",
    "X_train, y_train = df_data[features], df_data['Type1']\n",
    "\n",
    "# 編碼 Type1\n",
    "le = LabelEncoder()\n",
    "y_train = le.fit_transform(y_train)\n",
    "\n",
    "# 特徵標準化\n",
    "scalar = StandardScaler()\n",
    "scalar.fit(X_train)\n",
    "X_train_std = scalar.transform(X_train)\n",
    "\n",
    "# 建立線性支援向量分類器，並加以訓練。除以下參數設定外，其餘為預設值\n",
    "# C=0.1, dual=False, class_weight='balanced'\n",
    "\n",
    "model = LinearSVC(C=0.1, dual=False, class_weight='balanced')\n",
    "model.fit(X_train_std, y_train)\n",
    "# 計算分類錯誤的數量\n",
    "y_pred = model.predict(X_train_std)\n",
    "print('Misclassified samples: %d' % (y_train != y_pred).sum())\n",
    "\n",
    "# 計算準確度(accuracy)\n",
    "print('Accuracy: %.4f' % accuracy_score(y_train, y_pred))\n",
    "# 計算有加權的 F1-score (weighted)\n",
    "f1 = f1_score(y_train, y_pred, average='weighted')\n",
    "print('F1-score: %.4f' % f1)"
   ]
  },
  {
   "cell_type": "code",
   "execution_count": null,
   "metadata": {},
   "outputs": [],
   "source": []
  }
 ],
 "metadata": {
  "kernelspec": {
   "display_name": "Python 3",
   "language": "python",
   "name": "python3"
  },
  "language_info": {
   "codemirror_mode": {
    "name": "ipython",
    "version": 3
   },
   "file_extension": ".py",
   "mimetype": "text/x-python",
   "name": "python",
   "nbconvert_exporter": "python",
   "pygments_lexer": "ipython3",
   "version": "3.6.5"
  }
 },
 "nbformat": 4,
 "nbformat_minor": 2
}
